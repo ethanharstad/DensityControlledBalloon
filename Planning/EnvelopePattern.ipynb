{
 "metadata": {
  "name": "",
  "signature": "sha256:594230358697046f7201d08439db2a7bd22e7715bd27d85698f6d2d55a3318af"
 },
 "nbformat": 3,
 "nbformat_minor": 0,
 "worksheets": [
  {
   "cells": [
    {
     "cell_type": "code",
     "collapsed": false,
     "input": [
      "import numpy as np\n",
      "import matplotlib.pyplot as plt"
     ],
     "language": "python",
     "metadata": {},
     "outputs": [],
     "prompt_number": 4
    },
    {
     "cell_type": "code",
     "collapsed": false,
     "input": [
      "# Inputs\n",
      "materialWidth = 48 # Maximum material width in inches\n",
      "designRadius = 168 - 12 # inches\n",
      "coneAngle = 45 # half angle in degrees"
     ],
     "language": "python",
     "metadata": {},
     "outputs": [],
     "prompt_number": 23
    },
    {
     "cell_type": "code",
     "collapsed": false,
     "input": [
      "xt = designRadius * sin(radians(90 - coneAngle))\n",
      "yr = designRadius * cos(radians(90 - coneAngle))\n",
      "yt = xt / tan(radians(coneAngle))\n",
      "ys = np.linspace(0, ceil(yt + yr + designRadius))\n",
      "ys[-1] = yt + yr + designRadius\n",
      "xs = np.zeros_like(ys)\n",
      "\n",
      "for i in range(len(ys)):\n",
      "    y = ys[i]\n",
      "    if y < yt:\n",
      "        xs[i] = y * tan(radians(coneAngle))\n",
      "    else:\n",
      "        theta = math.asin((y - yt - yr) / designRadius)\n",
      "        xs[i] = designRadius * cos(theta)\n",
      "\n",
      "plt.plot(xs/12, ys/12, 'b')\n",
      "plt.plot(-xs/12, ys/12, 'b')\n",
      "plt.title('Envelope Shape (1200g)')\n",
      "plt.xlabel('ft')\n",
      "axis('equal')"
     ],
     "language": "python",
     "metadata": {},
     "outputs": [
      {
       "metadata": {},
       "output_type": "pyout",
       "prompt_number": 28,
       "text": [
        "(-15.0, 15.0, 0.0, 35.0)"
       ]
      },
      {
       "metadata": {},
       "output_type": "display_data",
       "png": "[encoded data removed]",
       "text": [
        "<matplotlib.figure.Figure at 0x7f3d14ece310>"
       ]
      }
     ],
     "prompt_number": 28
    },
    {
     "cell_type": "code",
     "collapsed": false,
     "input": [],
     "language": "python",
     "metadata": {},
     "outputs": []
    }
   ],
   "metadata": {}
  }
 ]
}